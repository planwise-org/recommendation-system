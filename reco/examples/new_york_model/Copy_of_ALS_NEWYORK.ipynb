{
  "cells": [
    {
      "cell_type": "markdown",
      "metadata": {
        "id": "32fjpkeS-nYP"
      },
      "source": [
        "#Getting Started with PySpark in Google Colab\n",
        "\n",
        "PySpark is Python interface for Apache Spark. The primary use cases for PySpark are to work with huge amounts of data and for creating data pipelines.\n",
        "\n",
        "You don't need to work with big data to benefit from PySpark. I find that the SparkSQL is a great tool for performing routine data anlysis. Pandas can get slow and you may find yourself writing a lot of code for data cleaning whereas the same actions take much less code in SQL. Let's get started!\n",
        "\n",
        "See more here! http://spark.apache.org/docs/latest/api/python/"
      ]
    },
    {
      "cell_type": "markdown",
      "metadata": {
        "id": "m9yXqV3LigUA"
      },
      "source": [
        "# 1. Installing PySpark in Google Colab"
      ]
    },
    {
      "cell_type": "code",
      "execution_count": null,
      "metadata": {
        "colab": {
          "base_uri": "https://localhost:8080/"
        },
        "id": "hxv7w_2y2bb9",
        "outputId": "a4ddea71-1114-494d-a437-55c2196291b6"
      },
      "outputs": [
        {
          "output_type": "stream",
          "name": "stdout",
          "text": [
            "\u001b[33m\r0% [Working]\u001b[0m\r            \rHit:1 https://cloud.r-project.org/bin/linux/ubuntu jammy-cran40/ InRelease\n",
            "Hit:2 https://developer.download.nvidia.com/compute/cuda/repos/ubuntu2204/x86_64  InRelease\n",
            "Hit:3 http://security.ubuntu.com/ubuntu jammy-security InRelease\n",
            "Hit:4 https://r2u.stat.illinois.edu/ubuntu jammy InRelease\n",
            "Hit:5 http://archive.ubuntu.com/ubuntu jammy InRelease\n",
            "Hit:6 http://archive.ubuntu.com/ubuntu jammy-updates InRelease\n",
            "Hit:7 http://archive.ubuntu.com/ubuntu jammy-backports InRelease\n",
            "Hit:8 https://ppa.launchpadcontent.net/deadsnakes/ppa/ubuntu jammy InRelease\n",
            "Hit:9 https://ppa.launchpadcontent.net/graphics-drivers/ppa/ubuntu jammy InRelease\n",
            "Hit:10 https://ppa.launchpadcontent.net/ubuntugis/ppa/ubuntu jammy InRelease\n",
            "Reading package lists... Done\n",
            "Building dependency tree... Done\n",
            "Reading state information... Done\n",
            "22 packages can be upgraded. Run 'apt list --upgradable' to see them.\n",
            "\u001b[1;33mW: \u001b[0mSkipping acquire of configured file 'main/source/Sources' as repository 'https://r2u.stat.illinois.edu/ubuntu jammy InRelease' does not seem to provide it (sources.list entry misspelt?)\u001b[0m\n",
            "tar: spark-3.2.1-bin-hadoop3.2.tgz: Cannot open: No such file or directory\n",
            "tar: Error is not recoverable: exiting now\n",
            "Requirement already satisfied: pyspark in /usr/local/lib/python3.11/dist-packages (3.5.4)\n",
            "Requirement already satisfied: py4j==0.10.9.7 in /usr/local/lib/python3.11/dist-packages (from pyspark) (0.10.9.7)\n",
            "Requirement already satisfied: py4j in /usr/local/lib/python3.11/dist-packages (0.10.9.7)\n",
            "Collecting recommenders\n",
            "  Using cached recommenders-1.2.1-py3-none-any.whl.metadata (13 kB)\n",
            "Collecting category-encoders<3,>=2.6.0 (from recommenders)\n",
            "  Using cached category_encoders-2.8.0-py3-none-any.whl.metadata (7.9 kB)\n",
            "Collecting cornac<3,>=1.15.2 (from recommenders)\n",
            "  Using cached cornac-2.3.0-cp311-cp311-manylinux1_x86_64.whl.metadata (37 kB)\n",
            "Requirement already satisfied: hyperopt<1,>=0.2.7 in /usr/local/lib/python3.11/dist-packages (from recommenders) (0.2.7)\n",
            "Requirement already satisfied: lightgbm<5,>=4.0.0 in /usr/local/lib/python3.11/dist-packages (from recommenders) (4.5.0)\n",
            "Collecting locust<3,>=2.12.2 (from recommenders)\n",
            "  Using cached locust-2.32.9-py3-none-any.whl.metadata (10.0 kB)\n",
            "Collecting memory-profiler<1,>=0.61.0 (from recommenders)\n",
            "  Using cached memory_profiler-0.61.0-py3-none-any.whl.metadata (20 kB)\n",
            "Requirement already satisfied: nltk<4,>=3.8.1 in /usr/local/lib/python3.11/dist-packages (from recommenders) (3.9.1)\n",
            "Requirement already satisfied: notebook<8,>=6.5.5 in /usr/local/lib/python3.11/dist-packages (from recommenders) (6.5.5)\n",
            "Requirement already satisfied: numba<1,>=0.57.0 in /usr/local/lib/python3.11/dist-packages (from recommenders) (0.61.0)\n",
            "Requirement already satisfied: pandas<3.0.0,>2.0.0 in /usr/local/lib/python3.11/dist-packages (from recommenders) (2.2.2)\n",
            "Collecting retrying<2,>=1.3.4 (from recommenders)\n",
            "  Using cached retrying-1.3.4-py3-none-any.whl.metadata (6.9 kB)\n",
            "Requirement already satisfied: scikit-learn<2,>=1.2.0 in /usr/local/lib/python3.11/dist-packages (from recommenders) (1.6.1)\n",
            "Collecting scikit-surprise>=1.1.3 (from recommenders)\n",
            "  Using cached scikit_surprise-1.1.4.tar.gz (154 kB)\n",
            "  Installing build dependencies ... \u001b[?25l\u001b[?25hdone\n",
            "  Getting requirements to build wheel ... \u001b[?25l\u001b[?25hdone\n",
            "  Preparing metadata (pyproject.toml) ... \u001b[?25l\u001b[?25hdone\n",
            "Requirement already satisfied: seaborn<1,>=0.13.0 in /usr/local/lib/python3.11/dist-packages (from recommenders) (0.13.2)\n",
            "Requirement already satisfied: transformers<5,>=4.27.0 in /usr/local/lib/python3.11/dist-packages (from recommenders) (4.48.3)\n",
            "Collecting pandera>=0.15.0 (from pandera[strategies]>=0.15.0; python_version >= \"3.9\"->recommenders)\n",
            "  Using cached pandera-0.22.1-py3-none-any.whl.metadata (15 kB)\n",
            "Requirement already satisfied: statsmodels>=0.14.4 in /usr/local/lib/python3.11/dist-packages (from recommenders) (0.14.4)\n",
            "Requirement already satisfied: numpy>=1.14.0 in /usr/local/lib/python3.11/dist-packages (from category-encoders<3,>=2.6.0->recommenders) (1.26.4)\n",
            "Requirement already satisfied: patsy>=0.5.1 in /usr/local/lib/python3.11/dist-packages (from category-encoders<3,>=2.6.0->recommenders) (1.0.1)\n",
            "Requirement already satisfied: scipy>=1.0.0 in /usr/local/lib/python3.11/dist-packages (from category-encoders<3,>=2.6.0->recommenders) (1.13.1)\n",
            "Requirement already satisfied: tqdm in /usr/local/lib/python3.11/dist-packages (from cornac<3,>=1.15.2->recommenders) (4.67.1)\n",
            "Collecting powerlaw (from cornac<3,>=1.15.2->recommenders)\n",
            "  Using cached powerlaw-1.5-py3-none-any.whl.metadata (9.3 kB)\n",
            "Requirement already satisfied: six in /usr/local/lib/python3.11/dist-packages (from hyperopt<1,>=0.2.7->recommenders) (1.17.0)\n",
            "Requirement already satisfied: networkx>=2.2 in /usr/local/lib/python3.11/dist-packages (from hyperopt<1,>=0.2.7->recommenders) (3.4.2)\n",
            "Requirement already satisfied: future in /usr/local/lib/python3.11/dist-packages (from hyperopt<1,>=0.2.7->recommenders) (1.0.0)\n",
            "Requirement already satisfied: cloudpickle in /usr/local/lib/python3.11/dist-packages (from hyperopt<1,>=0.2.7->recommenders) (3.1.1)\n",
            "Requirement already satisfied: py4j in /usr/local/lib/python3.11/dist-packages (from hyperopt<1,>=0.2.7->recommenders) (0.10.9.7)\n",
            "Collecting ConfigArgParse>=1.5.5 (from locust<3,>=2.12.2->recommenders)\n",
            "  Using cached ConfigArgParse-1.7-py3-none-any.whl.metadata (23 kB)\n",
            "Collecting Flask-Cors>=3.0.10 (from locust<3,>=2.12.2->recommenders)\n",
            "  Using cached Flask_Cors-5.0.0-py2.py3-none-any.whl.metadata (5.5 kB)\n",
            "Collecting Flask-Login>=0.6.3 (from locust<3,>=2.12.2->recommenders)\n",
            "  Using cached Flask_Login-0.6.3-py3-none-any.whl.metadata (5.8 kB)\n",
            "Requirement already satisfied: Werkzeug>=2.0.0 in /usr/local/lib/python3.11/dist-packages (from locust<3,>=2.12.2->recommenders) (3.1.3)\n",
            "Requirement already satisfied: flask>=2.0.0 in /usr/local/lib/python3.11/dist-packages (from locust<3,>=2.12.2->recommenders) (3.1.0)\n",
            "Collecting gevent>=22.10.2 (from locust<3,>=2.12.2->recommenders)\n",
            "  Using cached gevent-24.11.1-cp311-cp311-manylinux_2_17_x86_64.manylinux2014_x86_64.whl.metadata (13 kB)\n",
            "Collecting geventhttpclient>=2.3.1 (from locust<3,>=2.12.2->recommenders)\n",
            "  Using cached geventhttpclient-2.3.3-cp311-cp311-manylinux_2_5_x86_64.manylinux1_x86_64.manylinux_2_17_x86_64.manylinux2014_x86_64.whl.metadata (9.7 kB)\n",
            "Requirement already satisfied: msgpack>=1.0.0 in /usr/local/lib/python3.11/dist-packages (from locust<3,>=2.12.2->recommenders) (1.1.0)\n",
            "Requirement already satisfied: psutil>=5.9.1 in /usr/local/lib/python3.11/dist-packages (from locust<3,>=2.12.2->recommenders) (5.9.5)\n",
            "Collecting pyzmq>=25.0.0 (from locust<3,>=2.12.2->recommenders)\n",
            "  Using cached pyzmq-26.2.1-cp311-cp311-manylinux_2_28_x86_64.whl.metadata (6.2 kB)\n",
            "Requirement already satisfied: requests>=2.32.2 in /usr/local/lib/python3.11/dist-packages (from locust<3,>=2.12.2->recommenders) (2.32.3)\n",
            "Requirement already satisfied: setuptools>=70.0.0 in /usr/local/lib/python3.11/dist-packages (from locust<3,>=2.12.2->recommenders) (75.1.0)\n",
            "Requirement already satisfied: click in /usr/local/lib/python3.11/dist-packages (from nltk<4,>=3.8.1->recommenders) (8.1.8)\n",
            "Requirement already satisfied: joblib in /usr/local/lib/python3.11/dist-packages (from nltk<4,>=3.8.1->recommenders) (1.4.2)\n",
            "Requirement already satisfied: regex>=2021.8.3 in /usr/local/lib/python3.11/dist-packages (from nltk<4,>=3.8.1->recommenders) (2024.11.6)\n",
            "Requirement already satisfied: jinja2 in /usr/local/lib/python3.11/dist-packages (from notebook<8,>=6.5.5->recommenders) (3.1.5)\n",
            "Requirement already satisfied: tornado>=6.1 in /usr/local/lib/python3.11/dist-packages (from notebook<8,>=6.5.5->recommenders) (6.4.2)\n",
            "INFO: pip is looking at multiple versions of notebook to determine which version is compatible with other requirements. This could take a while.\n",
            "Collecting notebook<8,>=6.5.5 (from recommenders)\n",
            "  Using cached notebook-7.3.2-py3-none-any.whl.metadata (10 kB)\n",
            "Collecting jupyter-server<3,>=2.4.0 (from notebook<8,>=6.5.5->recommenders)\n",
            "  Using cached jupyter_server-2.15.0-py3-none-any.whl.metadata (8.4 kB)\n",
            "Collecting jupyterlab-server<3,>=2.27.1 (from notebook<8,>=6.5.5->recommenders)\n",
            "  Using cached jupyterlab_server-2.27.3-py3-none-any.whl.metadata (5.9 kB)\n",
            "Collecting jupyterlab<4.4,>=4.3.4 (from notebook<8,>=6.5.5->recommenders)\n",
            "  Using cached jupyterlab-4.3.5-py3-none-any.whl.metadata (16 kB)\n",
            "Requirement already satisfied: notebook-shim<0.3,>=0.2 in /usr/local/lib/python3.11/dist-packages (from notebook<8,>=6.5.5->recommenders) (0.2.4)\n",
            "Requirement already satisfied: llvmlite<0.45,>=0.44.0dev0 in /usr/local/lib/python3.11/dist-packages (from numba<1,>=0.57.0->recommenders) (0.44.0)\n",
            "Requirement already satisfied: python-dateutil>=2.8.2 in /usr/local/lib/python3.11/dist-packages (from pandas<3.0.0,>2.0.0->recommenders) (2.8.2)\n",
            "Requirement already satisfied: pytz>=2020.1 in /usr/local/lib/python3.11/dist-packages (from pandas<3.0.0,>2.0.0->recommenders) (2025.1)\n",
            "Requirement already satisfied: tzdata>=2022.7 in /usr/local/lib/python3.11/dist-packages (from pandas<3.0.0,>2.0.0->recommenders) (2025.1)\n",
            "Requirement already satisfied: packaging>=20.0 in /usr/local/lib/python3.11/dist-packages (from pandera>=0.15.0->pandera[strategies]>=0.15.0; python_version >= \"3.9\"->recommenders) (24.2)\n",
            "Requirement already satisfied: pydantic in /usr/local/lib/python3.11/dist-packages (from pandera>=0.15.0->pandera[strategies]>=0.15.0; python_version >= \"3.9\"->recommenders) (2.10.6)\n",
            "Requirement already satisfied: typeguard in /usr/local/lib/python3.11/dist-packages (from pandera>=0.15.0->pandera[strategies]>=0.15.0; python_version >= \"3.9\"->recommenders) (4.4.1)\n",
            "Collecting typing_inspect>=0.6.0 (from pandera>=0.15.0->pandera[strategies]>=0.15.0; python_version >= \"3.9\"->recommenders)\n",
            "  Using cached typing_inspect-0.9.0-py3-none-any.whl.metadata (1.5 kB)\n",
            "Collecting hypothesis>=6.92.7 (from pandera[strategies]>=0.15.0; python_version >= \"3.9\"->recommenders)\n",
            "  Using cached hypothesis-6.126.0-py3-none-any.whl.metadata (6.4 kB)\n",
            "Requirement already satisfied: threadpoolctl>=3.1.0 in /usr/local/lib/python3.11/dist-packages (from scikit-learn<2,>=1.2.0->recommenders) (3.5.0)\n",
            "Requirement already satisfied: matplotlib!=3.6.1,>=3.4 in /usr/local/lib/python3.11/dist-packages (from seaborn<1,>=0.13.0->recommenders) (3.10.0)\n",
            "Requirement already satisfied: filelock in /usr/local/lib/python3.11/dist-packages (from transformers<5,>=4.27.0->recommenders) (3.17.0)\n",
            "Requirement already satisfied: huggingface-hub<1.0,>=0.24.0 in /usr/local/lib/python3.11/dist-packages (from transformers<5,>=4.27.0->recommenders) (0.28.1)\n",
            "Requirement already satisfied: pyyaml>=5.1 in /usr/local/lib/python3.11/dist-packages (from transformers<5,>=4.27.0->recommenders) (6.0.2)\n",
            "Requirement already satisfied: tokenizers<0.22,>=0.21 in /usr/local/lib/python3.11/dist-packages (from transformers<5,>=4.27.0->recommenders) (0.21.0)\n",
            "Requirement already satisfied: safetensors>=0.4.1 in /usr/local/lib/python3.11/dist-packages (from transformers<5,>=4.27.0->recommenders) (0.5.2)\n",
            "Requirement already satisfied: itsdangerous>=2.2 in /usr/local/lib/python3.11/dist-packages (from flask>=2.0.0->locust<3,>=2.12.2->recommenders) (2.2.0)\n",
            "Requirement already satisfied: blinker>=1.9 in /usr/local/lib/python3.11/dist-packages (from flask>=2.0.0->locust<3,>=2.12.2->recommenders) (1.9.0)\n",
            "Collecting zope.event (from gevent>=22.10.2->locust<3,>=2.12.2->recommenders)\n",
            "  Using cached zope.event-5.0-py3-none-any.whl.metadata (4.4 kB)\n",
            "Collecting zope.interface (from gevent>=22.10.2->locust<3,>=2.12.2->recommenders)\n",
            "  Using cached zope.interface-7.2-cp311-cp311-manylinux_2_5_x86_64.manylinux1_x86_64.manylinux_2_17_x86_64.manylinux2014_x86_64.whl.metadata (44 kB)\n",
            "Requirement already satisfied: greenlet>=3.1.1 in /usr/local/lib/python3.11/dist-packages (from gevent>=22.10.2->locust<3,>=2.12.2->recommenders) (3.1.1)\n",
            "Requirement already satisfied: certifi in /usr/local/lib/python3.11/dist-packages (from geventhttpclient>=2.3.1->locust<3,>=2.12.2->recommenders) (2025.1.31)\n",
            "Collecting brotli (from geventhttpclient>=2.3.1->locust<3,>=2.12.2->recommenders)\n",
            "  Using cached Brotli-1.1.0-cp311-cp311-manylinux_2_17_x86_64.manylinux2014_x86_64.whl.metadata (5.5 kB)\n",
            "Requirement already satisfied: urllib3 in /usr/local/lib/python3.11/dist-packages (from geventhttpclient>=2.3.1->locust<3,>=2.12.2->recommenders) (2.3.0)\n",
            "Requirement already satisfied: fsspec>=2023.5.0 in /usr/local/lib/python3.11/dist-packages (from huggingface-hub<1.0,>=0.24.0->transformers<5,>=4.27.0->recommenders) (2024.10.0)\n",
            "Requirement already satisfied: typing-extensions>=3.7.4.3 in /usr/local/lib/python3.11/dist-packages (from huggingface-hub<1.0,>=0.24.0->transformers<5,>=4.27.0->recommenders) (4.12.2)\n",
            "Requirement already satisfied: attrs>=22.2.0 in /usr/local/lib/python3.11/dist-packages (from hypothesis>=6.92.7->pandera[strategies]>=0.15.0; python_version >= \"3.9\"->recommenders) (25.1.0)\n",
            "Collecting sortedcontainers<3.0.0,>=2.1.0 (from hypothesis>=6.92.7->pandera[strategies]>=0.15.0; python_version >= \"3.9\"->recommenders)\n",
            "  Using cached sortedcontainers-2.4.0-py2.py3-none-any.whl.metadata (10 kB)\n",
            "Requirement already satisfied: anyio>=3.1.0 in /usr/local/lib/python3.11/dist-packages (from jupyter-server<3,>=2.4.0->notebook<8,>=6.5.5->recommenders) (3.7.1)\n",
            "Requirement already satisfied: argon2-cffi>=21.1 in /usr/local/lib/python3.11/dist-packages (from jupyter-server<3,>=2.4.0->notebook<8,>=6.5.5->recommenders) (23.1.0)\n",
            "Collecting jupyter-client>=7.4.4 (from jupyter-server<3,>=2.4.0->notebook<8,>=6.5.5->recommenders)\n",
            "  Using cached jupyter_client-8.6.3-py3-none-any.whl.metadata (8.3 kB)\n",
            "Requirement already satisfied: jupyter-core!=5.0.*,>=4.12 in /usr/local/lib/python3.11/dist-packages (from jupyter-server<3,>=2.4.0->notebook<8,>=6.5.5->recommenders) (5.7.2)\n",
            "Collecting jupyter-events>=0.11.0 (from jupyter-server<3,>=2.4.0->notebook<8,>=6.5.5->recommenders)\n",
            "  Using cached jupyter_events-0.12.0-py3-none-any.whl.metadata (5.8 kB)\n",
            "Collecting jupyter-server-terminals>=0.4.4 (from jupyter-server<3,>=2.4.0->notebook<8,>=6.5.5->recommenders)\n",
            "  Using cached jupyter_server_terminals-0.5.3-py3-none-any.whl.metadata (5.6 kB)\n",
            "Requirement already satisfied: nbconvert>=6.4.4 in /usr/local/lib/python3.11/dist-packages (from jupyter-server<3,>=2.4.0->notebook<8,>=6.5.5->recommenders) (7.16.6)\n",
            "Requirement already satisfied: nbformat>=5.3.0 in /usr/local/lib/python3.11/dist-packages (from jupyter-server<3,>=2.4.0->notebook<8,>=6.5.5->recommenders) (5.10.4)\n",
            "Collecting overrides>=5.0 (from jupyter-server<3,>=2.4.0->notebook<8,>=6.5.5->recommenders)\n",
            "  Using cached overrides-7.7.0-py3-none-any.whl.metadata (5.8 kB)\n",
            "Requirement already satisfied: prometheus-client>=0.9 in /usr/local/lib/python3.11/dist-packages (from jupyter-server<3,>=2.4.0->notebook<8,>=6.5.5->recommenders) (0.21.1)\n",
            "Requirement already satisfied: send2trash>=1.8.2 in /usr/local/lib/python3.11/dist-packages (from jupyter-server<3,>=2.4.0->notebook<8,>=6.5.5->recommenders) (1.8.3)\n",
            "Requirement already satisfied: terminado>=0.8.3 in /usr/local/lib/python3.11/dist-packages (from jupyter-server<3,>=2.4.0->notebook<8,>=6.5.5->recommenders) (0.18.1)\n",
            "Requirement already satisfied: traitlets>=5.6.0 in /usr/local/lib/python3.11/dist-packages (from jupyter-server<3,>=2.4.0->notebook<8,>=6.5.5->recommenders) (5.7.1)\n",
            "Requirement already satisfied: websocket-client>=1.7 in /usr/local/lib/python3.11/dist-packages (from jupyter-server<3,>=2.4.0->notebook<8,>=6.5.5->recommenders) (1.8.0)\n",
            "Collecting async-lru>=1.0.0 (from jupyterlab<4.4,>=4.3.4->notebook<8,>=6.5.5->recommenders)\n",
            "  Using cached async_lru-2.0.4-py3-none-any.whl.metadata (4.5 kB)\n",
            "Requirement already satisfied: httpx>=0.25.0 in /usr/local/lib/python3.11/dist-packages (from jupyterlab<4.4,>=4.3.4->notebook<8,>=6.5.5->recommenders) (0.28.1)\n",
            "Collecting ipykernel>=6.5.0 (from jupyterlab<4.4,>=4.3.4->notebook<8,>=6.5.5->recommenders)\n",
            "  Using cached ipykernel-6.29.5-py3-none-any.whl.metadata (6.3 kB)\n",
            "Collecting jupyter-lsp>=2.0.0 (from jupyterlab<4.4,>=4.3.4->notebook<8,>=6.5.5->recommenders)\n",
            "  Using cached jupyter_lsp-2.2.5-py3-none-any.whl.metadata (1.8 kB)\n",
            "Requirement already satisfied: babel>=2.10 in /usr/local/lib/python3.11/dist-packages (from jupyterlab-server<3,>=2.27.1->notebook<8,>=6.5.5->recommenders) (2.17.0)\n",
            "Collecting json5>=0.9.0 (from jupyterlab-server<3,>=2.27.1->notebook<8,>=6.5.5->recommenders)\n",
            "  Using cached json5-0.10.0-py3-none-any.whl.metadata (34 kB)\n",
            "Requirement already satisfied: jsonschema>=4.18.0 in /usr/local/lib/python3.11/dist-packages (from jupyterlab-server<3,>=2.27.1->notebook<8,>=6.5.5->recommenders) (4.23.0)\n",
            "Requirement already satisfied: contourpy>=1.0.1 in /usr/local/lib/python3.11/dist-packages (from matplotlib!=3.6.1,>=3.4->seaborn<1,>=0.13.0->recommenders) (1.3.1)\n",
            "Requirement already satisfied: cycler>=0.10 in /usr/local/lib/python3.11/dist-packages (from matplotlib!=3.6.1,>=3.4->seaborn<1,>=0.13.0->recommenders) (0.12.1)\n",
            "Requirement already satisfied: fonttools>=4.22.0 in /usr/local/lib/python3.11/dist-packages (from matplotlib!=3.6.1,>=3.4->seaborn<1,>=0.13.0->recommenders) (4.56.0)\n",
            "Requirement already satisfied: kiwisolver>=1.3.1 in /usr/local/lib/python3.11/dist-packages (from matplotlib!=3.6.1,>=3.4->seaborn<1,>=0.13.0->recommenders) (1.4.8)\n",
            "Requirement already satisfied: pillow>=8 in /usr/local/lib/python3.11/dist-packages (from matplotlib!=3.6.1,>=3.4->seaborn<1,>=0.13.0->recommenders) (11.1.0)\n",
            "Requirement already satisfied: pyparsing>=2.3.1 in /usr/local/lib/python3.11/dist-packages (from matplotlib!=3.6.1,>=3.4->seaborn<1,>=0.13.0->recommenders) (3.2.1)\n",
            "Requirement already satisfied: charset-normalizer<4,>=2 in /usr/local/lib/python3.11/dist-packages (from requests>=2.32.2->locust<3,>=2.12.2->recommenders) (3.4.1)\n",
            "Requirement already satisfied: idna<4,>=2.5 in /usr/local/lib/python3.11/dist-packages (from requests>=2.32.2->locust<3,>=2.12.2->recommenders) (3.10)\n",
            "Collecting mypy-extensions>=0.3.0 (from typing_inspect>=0.6.0->pandera>=0.15.0->pandera[strategies]>=0.15.0; python_version >= \"3.9\"->recommenders)\n",
            "  Using cached mypy_extensions-1.0.0-py3-none-any.whl.metadata (1.1 kB)\n",
            "Requirement already satisfied: MarkupSafe>=2.1.1 in /usr/local/lib/python3.11/dist-packages (from Werkzeug>=2.0.0->locust<3,>=2.12.2->recommenders) (3.0.2)\n",
            "Requirement already satisfied: mpmath in /usr/local/lib/python3.11/dist-packages (from powerlaw->cornac<3,>=1.15.2->recommenders) (1.3.0)\n",
            "Requirement already satisfied: annotated-types>=0.6.0 in /usr/local/lib/python3.11/dist-packages (from pydantic->pandera>=0.15.0->pandera[strategies]>=0.15.0; python_version >= \"3.9\"->recommenders) (0.7.0)\n",
            "Requirement already satisfied: pydantic-core==2.27.2 in /usr/local/lib/python3.11/dist-packages (from pydantic->pandera>=0.15.0->pandera[strategies]>=0.15.0; python_version >= \"3.9\"->recommenders) (2.27.2)\n",
            "Requirement already satisfied: sniffio>=1.1 in /usr/local/lib/python3.11/dist-packages (from anyio>=3.1.0->jupyter-server<3,>=2.4.0->notebook<8,>=6.5.5->recommenders) (1.3.1)\n",
            "Requirement already satisfied: argon2-cffi-bindings in /usr/local/lib/python3.11/dist-packages (from argon2-cffi>=21.1->jupyter-server<3,>=2.4.0->notebook<8,>=6.5.5->recommenders) (21.2.0)\n",
            "Requirement already satisfied: httpcore==1.* in /usr/local/lib/python3.11/dist-packages (from httpx>=0.25.0->jupyterlab<4.4,>=4.3.4->notebook<8,>=6.5.5->recommenders) (1.0.7)\n",
            "Requirement already satisfied: h11<0.15,>=0.13 in /usr/local/lib/python3.11/dist-packages (from httpcore==1.*->httpx>=0.25.0->jupyterlab<4.4,>=4.3.4->notebook<8,>=6.5.5->recommenders) (0.14.0)\n",
            "Collecting comm>=0.1.1 (from ipykernel>=6.5.0->jupyterlab<4.4,>=4.3.4->notebook<8,>=6.5.5->recommenders)\n",
            "  Using cached comm-0.2.2-py3-none-any.whl.metadata (3.7 kB)\n",
            "Requirement already satisfied: debugpy>=1.6.5 in /usr/local/lib/python3.11/dist-packages (from ipykernel>=6.5.0->jupyterlab<4.4,>=4.3.4->notebook<8,>=6.5.5->recommenders) (1.8.0)\n",
            "Requirement already satisfied: ipython>=7.23.1 in /usr/local/lib/python3.11/dist-packages (from ipykernel>=6.5.0->jupyterlab<4.4,>=4.3.4->notebook<8,>=6.5.5->recommenders) (7.34.0)\n",
            "Requirement already satisfied: matplotlib-inline>=0.1 in /usr/local/lib/python3.11/dist-packages (from ipykernel>=6.5.0->jupyterlab<4.4,>=4.3.4->notebook<8,>=6.5.5->recommenders) (0.1.7)\n",
            "Requirement already satisfied: nest-asyncio in /usr/local/lib/python3.11/dist-packages (from ipykernel>=6.5.0->jupyterlab<4.4,>=4.3.4->notebook<8,>=6.5.5->recommenders) (1.6.0)\n",
            "Requirement already satisfied: jsonschema-specifications>=2023.03.6 in /usr/local/lib/python3.11/dist-packages (from jsonschema>=4.18.0->jupyterlab-server<3,>=2.27.1->notebook<8,>=6.5.5->recommenders) (2024.10.1)\n",
            "Requirement already satisfied: referencing>=0.28.4 in /usr/local/lib/python3.11/dist-packages (from jsonschema>=4.18.0->jupyterlab-server<3,>=2.27.1->notebook<8,>=6.5.5->recommenders) (0.36.2)\n",
            "Requirement already satisfied: rpds-py>=0.7.1 in /usr/local/lib/python3.11/dist-packages (from jsonschema>=4.18.0->jupyterlab-server<3,>=2.27.1->notebook<8,>=6.5.5->recommenders) (0.22.3)\n",
            "Requirement already satisfied: platformdirs>=2.5 in /usr/local/lib/python3.11/dist-packages (from jupyter-core!=5.0.*,>=4.12->jupyter-server<3,>=2.4.0->notebook<8,>=6.5.5->recommenders) (4.3.6)\n",
            "Collecting python-json-logger>=2.0.4 (from jupyter-events>=0.11.0->jupyter-server<3,>=2.4.0->notebook<8,>=6.5.5->recommenders)\n",
            "  Using cached python_json_logger-3.2.1-py3-none-any.whl.metadata (4.1 kB)\n",
            "Collecting rfc3339-validator (from jupyter-events>=0.11.0->jupyter-server<3,>=2.4.0->notebook<8,>=6.5.5->recommenders)\n",
            "  Using cached rfc3339_validator-0.1.4-py2.py3-none-any.whl.metadata (1.5 kB)\n",
            "Collecting rfc3986-validator>=0.1.1 (from jupyter-events>=0.11.0->jupyter-server<3,>=2.4.0->notebook<8,>=6.5.5->recommenders)\n",
            "  Using cached rfc3986_validator-0.1.1-py2.py3-none-any.whl.metadata (1.7 kB)\n",
            "Requirement already satisfied: beautifulsoup4 in /usr/local/lib/python3.11/dist-packages (from nbconvert>=6.4.4->jupyter-server<3,>=2.4.0->notebook<8,>=6.5.5->recommenders) (4.13.3)\n",
            "Requirement already satisfied: bleach!=5.0.0 in /usr/local/lib/python3.11/dist-packages (from bleach[css]!=5.0.0->nbconvert>=6.4.4->jupyter-server<3,>=2.4.0->notebook<8,>=6.5.5->recommenders) (6.2.0)\n",
            "Requirement already satisfied: defusedxml in /usr/local/lib/python3.11/dist-packages (from nbconvert>=6.4.4->jupyter-server<3,>=2.4.0->notebook<8,>=6.5.5->recommenders) (0.7.1)\n",
            "Requirement already satisfied: jupyterlab-pygments in /usr/local/lib/python3.11/dist-packages (from nbconvert>=6.4.4->jupyter-server<3,>=2.4.0->notebook<8,>=6.5.5->recommenders) (0.3.0)\n",
            "Requirement already satisfied: mistune<4,>=2.0.3 in /usr/local/lib/python3.11/dist-packages (from nbconvert>=6.4.4->jupyter-server<3,>=2.4.0->notebook<8,>=6.5.5->recommenders) (3.1.1)\n",
            "Requirement already satisfied: nbclient>=0.5.0 in /usr/local/lib/python3.11/dist-packages (from nbconvert>=6.4.4->jupyter-server<3,>=2.4.0->notebook<8,>=6.5.5->recommenders) (0.10.2)\n",
            "Requirement already satisfied: pandocfilters>=1.4.1 in /usr/local/lib/python3.11/dist-packages (from nbconvert>=6.4.4->jupyter-server<3,>=2.4.0->notebook<8,>=6.5.5->recommenders) (1.5.1)\n",
            "Requirement already satisfied: pygments>=2.4.1 in /usr/local/lib/python3.11/dist-packages (from nbconvert>=6.4.4->jupyter-server<3,>=2.4.0->notebook<8,>=6.5.5->recommenders) (2.18.0)\n",
            "Requirement already satisfied: fastjsonschema>=2.15 in /usr/local/lib/python3.11/dist-packages (from nbformat>=5.3.0->jupyter-server<3,>=2.4.0->notebook<8,>=6.5.5->recommenders) (2.21.1)\n",
            "Requirement already satisfied: ptyprocess in /usr/local/lib/python3.11/dist-packages (from terminado>=0.8.3->jupyter-server<3,>=2.4.0->notebook<8,>=6.5.5->recommenders) (0.7.0)\n",
            "Requirement already satisfied: webencodings in /usr/local/lib/python3.11/dist-packages (from bleach!=5.0.0->bleach[css]!=5.0.0->nbconvert>=6.4.4->jupyter-server<3,>=2.4.0->notebook<8,>=6.5.5->recommenders) (0.5.1)\n",
            "Requirement already satisfied: tinycss2<1.5,>=1.1.0 in /usr/local/lib/python3.11/dist-packages (from bleach[css]!=5.0.0->nbconvert>=6.4.4->jupyter-server<3,>=2.4.0->notebook<8,>=6.5.5->recommenders) (1.4.0)\n",
            "Collecting jedi>=0.16 (from ipython>=7.23.1->ipykernel>=6.5.0->jupyterlab<4.4,>=4.3.4->notebook<8,>=6.5.5->recommenders)\n",
            "  Using cached jedi-0.19.2-py2.py3-none-any.whl.metadata (22 kB)\n",
            "Requirement already satisfied: decorator in /usr/local/lib/python3.11/dist-packages (from ipython>=7.23.1->ipykernel>=6.5.0->jupyterlab<4.4,>=4.3.4->notebook<8,>=6.5.5->recommenders) (4.4.2)\n",
            "Requirement already satisfied: pickleshare in /usr/local/lib/python3.11/dist-packages (from ipython>=7.23.1->ipykernel>=6.5.0->jupyterlab<4.4,>=4.3.4->notebook<8,>=6.5.5->recommenders) (0.7.5)\n",
            "Requirement already satisfied: prompt-toolkit!=3.0.0,!=3.0.1,<3.1.0,>=2.0.0 in /usr/local/lib/python3.11/dist-packages (from ipython>=7.23.1->ipykernel>=6.5.0->jupyterlab<4.4,>=4.3.4->notebook<8,>=6.5.5->recommenders) (3.0.50)\n",
            "Requirement already satisfied: backcall in /usr/local/lib/python3.11/dist-packages (from ipython>=7.23.1->ipykernel>=6.5.0->jupyterlab<4.4,>=4.3.4->notebook<8,>=6.5.5->recommenders) (0.2.0)\n",
            "Requirement already satisfied: pexpect>4.3 in /usr/local/lib/python3.11/dist-packages (from ipython>=7.23.1->ipykernel>=6.5.0->jupyterlab<4.4,>=4.3.4->notebook<8,>=6.5.5->recommenders) (4.9.0)\n",
            "Collecting fqdn (from jsonschema[format-nongpl]>=4.18.0->jupyter-events>=0.11.0->jupyter-server<3,>=2.4.0->notebook<8,>=6.5.5->recommenders)\n",
            "  Using cached fqdn-1.5.1-py3-none-any.whl.metadata (1.4 kB)\n",
            "Collecting isoduration (from jsonschema[format-nongpl]>=4.18.0->jupyter-events>=0.11.0->jupyter-server<3,>=2.4.0->notebook<8,>=6.5.5->recommenders)\n",
            "  Using cached isoduration-20.11.0-py3-none-any.whl.metadata (5.7 kB)\n",
            "Requirement already satisfied: jsonpointer>1.13 in /usr/local/lib/python3.11/dist-packages (from jsonschema[format-nongpl]>=4.18.0->jupyter-events>=0.11.0->jupyter-server<3,>=2.4.0->notebook<8,>=6.5.5->recommenders) (3.0.0)\n",
            "Collecting uri-template (from jsonschema[format-nongpl]>=4.18.0->jupyter-events>=0.11.0->jupyter-server<3,>=2.4.0->notebook<8,>=6.5.5->recommenders)\n",
            "  Using cached uri_template-1.3.0-py3-none-any.whl.metadata (8.8 kB)\n",
            "Requirement already satisfied: webcolors>=24.6.0 in /usr/local/lib/python3.11/dist-packages (from jsonschema[format-nongpl]>=4.18.0->jupyter-events>=0.11.0->jupyter-server<3,>=2.4.0->notebook<8,>=6.5.5->recommenders) (24.11.1)\n",
            "Requirement already satisfied: cffi>=1.0.1 in /usr/local/lib/python3.11/dist-packages (from argon2-cffi-bindings->argon2-cffi>=21.1->jupyter-server<3,>=2.4.0->notebook<8,>=6.5.5->recommenders) (1.17.1)\n",
            "Requirement already satisfied: soupsieve>1.2 in /usr/local/lib/python3.11/dist-packages (from beautifulsoup4->nbconvert>=6.4.4->jupyter-server<3,>=2.4.0->notebook<8,>=6.5.5->recommenders) (2.6)\n",
            "Requirement already satisfied: pycparser in /usr/local/lib/python3.11/dist-packages (from cffi>=1.0.1->argon2-cffi-bindings->argon2-cffi>=21.1->jupyter-server<3,>=2.4.0->notebook<8,>=6.5.5->recommenders) (2.22)\n",
            "Requirement already satisfied: parso<0.9.0,>=0.8.4 in /usr/local/lib/python3.11/dist-packages (from jedi>=0.16->ipython>=7.23.1->ipykernel>=6.5.0->jupyterlab<4.4,>=4.3.4->notebook<8,>=6.5.5->recommenders) (0.8.4)\n",
            "Requirement already satisfied: wcwidth in /usr/local/lib/python3.11/dist-packages (from prompt-toolkit!=3.0.0,!=3.0.1,<3.1.0,>=2.0.0->ipython>=7.23.1->ipykernel>=6.5.0->jupyterlab<4.4,>=4.3.4->notebook<8,>=6.5.5->recommenders) (0.2.13)\n",
            "Collecting arrow>=0.15.0 (from isoduration->jsonschema[format-nongpl]>=4.18.0->jupyter-events>=0.11.0->jupyter-server<3,>=2.4.0->notebook<8,>=6.5.5->recommenders)\n",
            "  Using cached arrow-1.3.0-py3-none-any.whl.metadata (7.5 kB)\n",
            "Collecting types-python-dateutil>=2.8.10 (from arrow>=0.15.0->isoduration->jsonschema[format-nongpl]>=4.18.0->jupyter-events>=0.11.0->jupyter-server<3,>=2.4.0->notebook<8,>=6.5.5->recommenders)\n",
            "  Using cached types_python_dateutil-2.9.0.20241206-py3-none-any.whl.metadata (2.1 kB)\n",
            "Using cached recommenders-1.2.1-py3-none-any.whl (355 kB)\n",
            "Using cached category_encoders-2.8.0-py3-none-any.whl (85 kB)\n",
            "Using cached cornac-2.3.0-cp311-cp311-manylinux1_x86_64.whl (25.4 MB)\n",
            "Using cached locust-2.32.9-py3-none-any.whl (2.3 MB)\n",
            "Using cached memory_profiler-0.61.0-py3-none-any.whl (31 kB)\n",
            "Using cached notebook-7.3.2-py3-none-any.whl (13.2 MB)\n",
            "Using cached pandera-0.22.1-py3-none-any.whl (261 kB)\n",
            "Using cached retrying-1.3.4-py3-none-any.whl (11 kB)\n",
            "Using cached ConfigArgParse-1.7-py3-none-any.whl (25 kB)\n",
            "Using cached Flask_Cors-5.0.0-py2.py3-none-any.whl (14 kB)\n",
            "Using cached Flask_Login-0.6.3-py3-none-any.whl (17 kB)\n",
            "Using cached gevent-24.11.1-cp311-cp311-manylinux_2_17_x86_64.manylinux2014_x86_64.whl (6.8 MB)\n",
            "Using cached geventhttpclient-2.3.3-cp311-cp311-manylinux_2_5_x86_64.manylinux1_x86_64.manylinux_2_17_x86_64.manylinux2014_x86_64.whl (112 kB)\n",
            "Using cached hypothesis-6.126.0-py3-none-any.whl (483 kB)\n",
            "Using cached jupyter_server-2.15.0-py3-none-any.whl (385 kB)\n",
            "Using cached jupyterlab-4.3.5-py3-none-any.whl (11.7 MB)\n",
            "Using cached jupyterlab_server-2.27.3-py3-none-any.whl (59 kB)\n",
            "Using cached pyzmq-26.2.1-cp311-cp311-manylinux_2_28_x86_64.whl (874 kB)\n",
            "Using cached typing_inspect-0.9.0-py3-none-any.whl (8.8 kB)\n",
            "Using cached powerlaw-1.5-py3-none-any.whl (24 kB)\n",
            "Using cached async_lru-2.0.4-py3-none-any.whl (6.1 kB)\n",
            "Using cached ipykernel-6.29.5-py3-none-any.whl (117 kB)\n",
            "Using cached json5-0.10.0-py3-none-any.whl (34 kB)\n",
            "Using cached jupyter_client-8.6.3-py3-none-any.whl (106 kB)\n",
            "Using cached jupyter_events-0.12.0-py3-none-any.whl (19 kB)\n",
            "Using cached jupyter_lsp-2.2.5-py3-none-any.whl (69 kB)\n",
            "Using cached jupyter_server_terminals-0.5.3-py3-none-any.whl (13 kB)\n",
            "Using cached mypy_extensions-1.0.0-py3-none-any.whl (4.7 kB)\n",
            "Using cached overrides-7.7.0-py3-none-any.whl (17 kB)\n",
            "Using cached sortedcontainers-2.4.0-py2.py3-none-any.whl (29 kB)\n",
            "Using cached Brotli-1.1.0-cp311-cp311-manylinux_2_17_x86_64.manylinux2014_x86_64.whl (2.9 MB)\n",
            "Using cached zope.event-5.0-py3-none-any.whl (6.8 kB)\n",
            "Using cached zope.interface-7.2-cp311-cp311-manylinux_2_5_x86_64.manylinux1_x86_64.manylinux_2_17_x86_64.manylinux2014_x86_64.whl (259 kB)\n",
            "Using cached comm-0.2.2-py3-none-any.whl (7.2 kB)\n",
            "Using cached python_json_logger-3.2.1-py3-none-any.whl (14 kB)\n",
            "Using cached rfc3986_validator-0.1.1-py2.py3-none-any.whl (4.2 kB)\n",
            "Using cached rfc3339_validator-0.1.4-py2.py3-none-any.whl (3.5 kB)\n",
            "Using cached jedi-0.19.2-py2.py3-none-any.whl (1.6 MB)\n",
            "Using cached fqdn-1.5.1-py3-none-any.whl (9.1 kB)\n",
            "Using cached isoduration-20.11.0-py3-none-any.whl (11 kB)\n",
            "Using cached uri_template-1.3.0-py3-none-any.whl (11 kB)\n",
            "Using cached arrow-1.3.0-py3-none-any.whl (66 kB)\n",
            "Using cached types_python_dateutil-2.9.0.20241206-py3-none-any.whl (14 kB)\n",
            "Building wheels for collected packages: scikit-surprise\n",
            "  Building wheel for scikit-surprise (pyproject.toml) ... \u001b[?25l\u001b[?25hdone\n",
            "  Created wheel for scikit-surprise: filename=scikit_surprise-1.1.4-cp311-cp311-linux_x86_64.whl size=2505180 sha256=178b039b2b89556a9f1a3bc244b298ddf32a4fb59be7fb773bc1786db4e9fa46\n",
            "  Stored in directory: /root/.cache/pip/wheels/2a/8f/6e/7e2899163e2d85d8266daab4aa1cdabec7a6c56f83c015b5af\n",
            "Successfully built scikit-surprise\n",
            "Installing collected packages: sortedcontainers, brotli, zope.interface, zope.event, uri-template, types-python-dateutil, rfc3986-validator, rfc3339-validator, retrying, pyzmq, python-json-logger, overrides, mypy-extensions, memory-profiler, json5, jedi, hypothesis, fqdn, ConfigArgParse, comm, async-lru, typing_inspect, scikit-surprise, jupyter-server-terminals, jupyter-client, gevent, arrow, powerlaw, pandera, isoduration, ipykernel, geventhttpclient, Flask-Login, Flask-Cors, locust, cornac, category-encoders, jupyter-events, jupyter-server, jupyterlab-server, jupyter-lsp, jupyterlab, notebook, recommenders\n",
            "  Attempting uninstall: pyzmq\n",
            "    Found existing installation: pyzmq 24.0.1\n",
            "    Uninstalling pyzmq-24.0.1:\n",
            "      Successfully uninstalled pyzmq-24.0.1\n",
            "  Attempting uninstall: jupyter-client\n",
            "    Found existing installation: jupyter-client 6.1.12\n",
            "    Uninstalling jupyter-client-6.1.12:\n",
            "      Successfully uninstalled jupyter-client-6.1.12\n",
            "  Attempting uninstall: ipykernel\n",
            "    Found existing installation: ipykernel 5.5.6\n",
            "    Uninstalling ipykernel-5.5.6:\n",
            "      Successfully uninstalled ipykernel-5.5.6\n",
            "  Attempting uninstall: jupyter-server\n",
            "    Found existing installation: jupyter-server 1.24.0\n",
            "    Uninstalling jupyter-server-1.24.0:\n",
            "      Successfully uninstalled jupyter-server-1.24.0\n",
            "  Attempting uninstall: notebook\n",
            "    Found existing installation: notebook 6.5.5\n",
            "    Uninstalling notebook-6.5.5:\n",
            "      Successfully uninstalled notebook-6.5.5\n",
            "\u001b[31mERROR: pip's dependency resolver does not currently take into account all the packages that are installed. This behaviour is the source of the following dependency conflicts.\n",
            "google-colab 1.0.0 requires ipykernel==5.5.6, but you have ipykernel 6.29.5 which is incompatible.\n",
            "google-colab 1.0.0 requires notebook==6.5.5, but you have notebook 7.3.2 which is incompatible.\u001b[0m\u001b[31m\n",
            "\u001b[0mSuccessfully installed ConfigArgParse-1.7 Flask-Cors-5.0.0 Flask-Login-0.6.3 arrow-1.3.0 async-lru-2.0.4 brotli-1.1.0 category-encoders-2.8.0 comm-0.2.2 cornac-2.3.0 fqdn-1.5.1 gevent-24.11.1 geventhttpclient-2.3.3 hypothesis-6.126.0 ipykernel-6.29.5 isoduration-20.11.0 jedi-0.19.2 json5-0.10.0 jupyter-client-8.6.3 jupyter-events-0.12.0 jupyter-lsp-2.2.5 jupyter-server-2.15.0 jupyter-server-terminals-0.5.3 jupyterlab-4.3.5 jupyterlab-server-2.27.3 locust-2.32.9 memory-profiler-0.61.0 mypy-extensions-1.0.0 notebook-7.3.2 overrides-7.7.0 pandera-0.22.1 powerlaw-1.5 python-json-logger-3.2.1 pyzmq-26.2.1 recommenders-1.2.1 retrying-1.3.4 rfc3339-validator-0.1.4 rfc3986-validator-0.1.1 scikit-surprise-1.1.4 sortedcontainers-2.4.0 types-python-dateutil-2.9.0.20241206 typing_inspect-0.9.0 uri-template-1.3.0 zope.event-5.0 zope.interface-7.2\n"
          ]
        }
      ],
      "source": [
        "!sudo apt update\n",
        "!apt-get install openjdk-8-jdk-headless -qq > /dev/null\n",
        "#Check this site for the latest download link https://www.apache.org/dyn/closer.lua/spark/spark-3.2.1/spark-3.2.1-bin-hadoop3.2.tgz\n",
        "!wget -q https://dlcdn.apache.org/spark/spark-3.2.1/spark-3.2.1-bin-hadoop3.2.tgz\n",
        "!tar xf spark-3.2.1-bin-hadoop3.2.tgz\n",
        "!pip install -q findspark\n",
        "!pip install pyspark\n",
        "!pip install py4j\n",
        "!pip install recommenders\n",
        "\n",
        "import os\n",
        "import sys\n",
        "# os.environ[\"JAVA_HOME\"] = \"/usr/lib/jvm/java-8-openjdk-amd64\"\n",
        "# os.environ[\"SPARK_HOME\"] = \"/content/spark-3.2.1-bin-hadoop3.2\"\n",
        "\n",
        "\n",
        "import findspark\n",
        "findspark.init()\n",
        "findspark.find()\n",
        "\n",
        "import sys\n",
        "import pyspark\n",
        "from pyspark.ml.recommendation import ALS\n",
        "import pyspark.sql.functions as F\n",
        "from pyspark.sql import SparkSession\n",
        "from pyspark.sql.types import StructType, StructField\n",
        "from pyspark.sql.types import StringType, FloatType, IntegerType, LongType\n",
        "from pyspark.ml.feature import StringIndexer\n",
        "\n",
        "from recommenders.utils.timer import Timer\n",
        "from recommenders.datasets import movielens\n",
        "from recommenders.utils.notebook_utils import is_jupyter\n",
        "from recommenders.datasets.spark_splitters import spark_random_split\n",
        "from recommenders.evaluation.spark_evaluation import SparkRatingEvaluation, SparkRankingEvaluation\n",
        "from recommenders.utils.spark_utils import start_or_get_spark"
      ]
    },
    {
      "cell_type": "code",
      "source": [
        "!pip install -q handyspark"
      ],
      "metadata": {
        "id": "HLsIrCsTpFXV"
      },
      "execution_count": null,
      "outputs": []
    },
    {
      "cell_type": "code",
      "execution_count": null,
      "metadata": {
        "id": "hcOCBgQo2Pqf",
        "colab": {
          "base_uri": "https://localhost:8080/"
        },
        "outputId": "a351fffc-4626-488c-8a54-030f1065cddc"
      },
      "outputs": [
        {
          "output_type": "stream",
          "name": "stdout",
          "text": [
            "System version: 3.11.11 (main, Dec  4 2024, 08:55:07) [GCC 11.4.0]\n",
            "Spark version: 3.5.4\n"
          ]
        }
      ],
      "source": [
        "print(f\"System version: {sys.version}\")\n",
        "print(\"Spark version: {}\".format(pyspark.__version__))"
      ]
    },
    {
      "cell_type": "code",
      "execution_count": null,
      "metadata": {
        "id": "MhRH5Edhl2ng",
        "colab": {
          "base_uri": "https://localhost:8080/"
        },
        "outputId": "6baea504-a36d-4252-a9d6-f9bfe6f599b8"
      },
      "outputs": [
        {
          "output_type": "stream",
          "name": "stdout",
          "text": [
            "Mounted at /content/drive\n"
          ]
        }
      ],
      "source": [
        "from google.colab import drive\n",
        "drive.mount('/content/drive')"
      ]
    },
    {
      "cell_type": "markdown",
      "metadata": {
        "id": "UHvKMqLQ4ezk"
      },
      "source": [
        "# 2. Set up parameters"
      ]
    },
    {
      "cell_type": "code",
      "execution_count": null,
      "metadata": {
        "id": "kOzEgH1LnqzO"
      },
      "outputs": [],
      "source": [
        "# top k items to recommend\n",
        "TOP_K = 10\n",
        "\n",
        "DATA_SIZE = '100k'\n",
        "\n",
        "COL_USER = \"user\"\n",
        "COL_ITEM = \"business\"\n",
        "COL_RATING = \"rating\"\n",
        "COL_TIMESTAMP = \"timestamp\""
      ]
    },
    {
      "cell_type": "markdown",
      "metadata": {
        "id": "0jcrnLgroGi5"
      },
      "source": [
        "## 3. Get datasets"
      ]
    },
    {
      "cell_type": "code",
      "execution_count": null,
      "metadata": {
        "id": "xzvNxiQSixRU",
        "colab": {
          "base_uri": "https://localhost:8080/"
        },
        "outputId": "c880b5ac-f1fc-4783-d1e6-c05251372f1c"
      },
      "outputs": [
        {
          "output_type": "stream",
          "name": "stdout",
          "text": [
            "Downloading rating-New_York.csv.gz...\n",
            "rating-New_York.csv.gz downloaded successfully.\n",
            "Downloading meta-New_York.json.gz...\n",
            "meta-New_York.json.gz downloaded successfully.\n"
          ]
        }
      ],
      "source": [
        "import os\n",
        "import requests\n",
        "import gzip, shutil\n",
        "\n",
        "# URLs of the files to download\n",
        "urls = {\n",
        "    \"rating-New_York.csv.gz\": \"https://datarepo.eng.ucsd.edu/mcauley_group/gdrive/googlelocal/rating-New_York.csv.gz\",\n",
        "    \"meta-New_York.json.gz\": \"https://datarepo.eng.ucsd.edu/mcauley_group/gdrive/googlelocal/meta-New_York.json.gz\"\n",
        "}\n",
        "\n",
        "for filename, url in urls.items():\n",
        "    if not os.path.isfile(filename):\n",
        "        print(f\"Downloading {filename}...\")\n",
        "\n",
        "        with requests.get(url, stream=True) as r:\n",
        "            r.raise_for_status()\n",
        "            with open(filename, 'wb') as f:\n",
        "                for chunk in r.iter_content(chunk_size=8192):\n",
        "                    f.write(chunk)\n",
        "        print(f\"{filename} downloaded successfully.\")\n",
        "\n",
        "        with gzip.open(filename, 'rb') as f_in:\n",
        "          with open(filename[:-3], 'wb') as f_out:\n",
        "              shutil.copyfileobj(f_in, f_out)\n",
        "\n",
        "    else:\n",
        "        print(f\"{filename} already exists.\")\n"
      ]
    },
    {
      "cell_type": "code",
      "execution_count": null,
      "metadata": {
        "id": "B2AHcd0zzB4m"
      },
      "outputs": [],
      "source": []
    },
    {
      "cell_type": "markdown",
      "metadata": {
        "id": "m0_LaSlYyU_9"
      },
      "source": [
        "## 3. Check with pandas"
      ]
    },
    {
      "cell_type": "code",
      "execution_count": null,
      "metadata": {
        "id": "W5oFPXdQzZMo",
        "colab": {
          "base_uri": "https://localhost:8080/",
          "height": 206
        },
        "outputId": "c6e90145-fd0f-4de9-dc37-275dd974694e"
      },
      "outputs": [
        {
          "output_type": "execute_result",
          "data": {
            "text/plain": [
              "                                business                   user  rating  \\\n",
              "0  0x89c24469c758686b:0x641f5b84cb9bedfa  101855823232666695168       1   \n",
              "1  0x89c24469c758686b:0x641f5b84cb9bedfa  105821946869087882225       1   \n",
              "2  0x89c24469c758686b:0x641f5b84cb9bedfa  108990883320903443748       1   \n",
              "3  0x89c24469c758686b:0x641f5b84cb9bedfa  117021514778630212205       5   \n",
              "4    0x89c25fc9494dce47:0x6d63c807b59a55  113722104692308235141       5   \n",
              "\n",
              "       timestamp  \n",
              "0  1629141186463  \n",
              "1  1528477593994  \n",
              "2  1424830512308  \n",
              "3  1512641660497  \n",
              "4  1603494795361  "
            ],
            "text/html": [
              "\n",
              "  <div id=\"df-73fc509c-ff26-4957-bced-bdb64bfff460\" class=\"colab-df-container\">\n",
              "    <div>\n",
              "<style scoped>\n",
              "    .dataframe tbody tr th:only-of-type {\n",
              "        vertical-align: middle;\n",
              "    }\n",
              "\n",
              "    .dataframe tbody tr th {\n",
              "        vertical-align: top;\n",
              "    }\n",
              "\n",
              "    .dataframe thead th {\n",
              "        text-align: right;\n",
              "    }\n",
              "</style>\n",
              "<table border=\"1\" class=\"dataframe\">\n",
              "  <thead>\n",
              "    <tr style=\"text-align: right;\">\n",
              "      <th></th>\n",
              "      <th>business</th>\n",
              "      <th>user</th>\n",
              "      <th>rating</th>\n",
              "      <th>timestamp</th>\n",
              "    </tr>\n",
              "  </thead>\n",
              "  <tbody>\n",
              "    <tr>\n",
              "      <th>0</th>\n",
              "      <td>0x89c24469c758686b:0x641f5b84cb9bedfa</td>\n",
              "      <td>101855823232666695168</td>\n",
              "      <td>1</td>\n",
              "      <td>1629141186463</td>\n",
              "    </tr>\n",
              "    <tr>\n",
              "      <th>1</th>\n",
              "      <td>0x89c24469c758686b:0x641f5b84cb9bedfa</td>\n",
              "      <td>105821946869087882225</td>\n",
              "      <td>1</td>\n",
              "      <td>1528477593994</td>\n",
              "    </tr>\n",
              "    <tr>\n",
              "      <th>2</th>\n",
              "      <td>0x89c24469c758686b:0x641f5b84cb9bedfa</td>\n",
              "      <td>108990883320903443748</td>\n",
              "      <td>1</td>\n",
              "      <td>1424830512308</td>\n",
              "    </tr>\n",
              "    <tr>\n",
              "      <th>3</th>\n",
              "      <td>0x89c24469c758686b:0x641f5b84cb9bedfa</td>\n",
              "      <td>117021514778630212205</td>\n",
              "      <td>5</td>\n",
              "      <td>1512641660497</td>\n",
              "    </tr>\n",
              "    <tr>\n",
              "      <th>4</th>\n",
              "      <td>0x89c25fc9494dce47:0x6d63c807b59a55</td>\n",
              "      <td>113722104692308235141</td>\n",
              "      <td>5</td>\n",
              "      <td>1603494795361</td>\n",
              "    </tr>\n",
              "  </tbody>\n",
              "</table>\n",
              "</div>\n",
              "    <div class=\"colab-df-buttons\">\n",
              "\n",
              "  <div class=\"colab-df-container\">\n",
              "    <button class=\"colab-df-convert\" onclick=\"convertToInteractive('df-73fc509c-ff26-4957-bced-bdb64bfff460')\"\n",
              "            title=\"Convert this dataframe to an interactive table.\"\n",
              "            style=\"display:none;\">\n",
              "\n",
              "  <svg xmlns=\"http://www.w3.org/2000/svg\" height=\"24px\" viewBox=\"0 -960 960 960\">\n",
              "    <path d=\"M120-120v-720h720v720H120Zm60-500h600v-160H180v160Zm220 220h160v-160H400v160Zm0 220h160v-160H400v160ZM180-400h160v-160H180v160Zm440 0h160v-160H620v160ZM180-180h160v-160H180v160Zm440 0h160v-160H620v160Z\"/>\n",
              "  </svg>\n",
              "    </button>\n",
              "\n",
              "  <style>\n",
              "    .colab-df-container {\n",
              "      display:flex;\n",
              "      gap: 12px;\n",
              "    }\n",
              "\n",
              "    .colab-df-convert {\n",
              "      background-color: #E8F0FE;\n",
              "      border: none;\n",
              "      border-radius: 50%;\n",
              "      cursor: pointer;\n",
              "      display: none;\n",
              "      fill: #1967D2;\n",
              "      height: 32px;\n",
              "      padding: 0 0 0 0;\n",
              "      width: 32px;\n",
              "    }\n",
              "\n",
              "    .colab-df-convert:hover {\n",
              "      background-color: #E2EBFA;\n",
              "      box-shadow: 0px 1px 2px rgba(60, 64, 67, 0.3), 0px 1px 3px 1px rgba(60, 64, 67, 0.15);\n",
              "      fill: #174EA6;\n",
              "    }\n",
              "\n",
              "    .colab-df-buttons div {\n",
              "      margin-bottom: 4px;\n",
              "    }\n",
              "\n",
              "    [theme=dark] .colab-df-convert {\n",
              "      background-color: #3B4455;\n",
              "      fill: #D2E3FC;\n",
              "    }\n",
              "\n",
              "    [theme=dark] .colab-df-convert:hover {\n",
              "      background-color: #434B5C;\n",
              "      box-shadow: 0px 1px 3px 1px rgba(0, 0, 0, 0.15);\n",
              "      filter: drop-shadow(0px 1px 2px rgba(0, 0, 0, 0.3));\n",
              "      fill: #FFFFFF;\n",
              "    }\n",
              "  </style>\n",
              "\n",
              "    <script>\n",
              "      const buttonEl =\n",
              "        document.querySelector('#df-73fc509c-ff26-4957-bced-bdb64bfff460 button.colab-df-convert');\n",
              "      buttonEl.style.display =\n",
              "        google.colab.kernel.accessAllowed ? 'block' : 'none';\n",
              "\n",
              "      async function convertToInteractive(key) {\n",
              "        const element = document.querySelector('#df-73fc509c-ff26-4957-bced-bdb64bfff460');\n",
              "        const dataTable =\n",
              "          await google.colab.kernel.invokeFunction('convertToInteractive',\n",
              "                                                    [key], {});\n",
              "        if (!dataTable) return;\n",
              "\n",
              "        const docLinkHtml = 'Like what you see? Visit the ' +\n",
              "          '<a target=\"_blank\" href=https://colab.research.google.com/notebooks/data_table.ipynb>data table notebook</a>'\n",
              "          + ' to learn more about interactive tables.';\n",
              "        element.innerHTML = '';\n",
              "        dataTable['output_type'] = 'display_data';\n",
              "        await google.colab.output.renderOutput(dataTable, element);\n",
              "        const docLink = document.createElement('div');\n",
              "        docLink.innerHTML = docLinkHtml;\n",
              "        element.appendChild(docLink);\n",
              "      }\n",
              "    </script>\n",
              "  </div>\n",
              "\n",
              "\n",
              "<div id=\"df-1946a0ec-f96d-4492-a7fe-6abf36a2bb60\">\n",
              "  <button class=\"colab-df-quickchart\" onclick=\"quickchart('df-1946a0ec-f96d-4492-a7fe-6abf36a2bb60')\"\n",
              "            title=\"Suggest charts\"\n",
              "            style=\"display:none;\">\n",
              "\n",
              "<svg xmlns=\"http://www.w3.org/2000/svg\" height=\"24px\"viewBox=\"0 0 24 24\"\n",
              "     width=\"24px\">\n",
              "    <g>\n",
              "        <path d=\"M19 3H5c-1.1 0-2 .9-2 2v14c0 1.1.9 2 2 2h14c1.1 0 2-.9 2-2V5c0-1.1-.9-2-2-2zM9 17H7v-7h2v7zm4 0h-2V7h2v10zm4 0h-2v-4h2v4z\"/>\n",
              "    </g>\n",
              "</svg>\n",
              "  </button>\n",
              "\n",
              "<style>\n",
              "  .colab-df-quickchart {\n",
              "      --bg-color: #E8F0FE;\n",
              "      --fill-color: #1967D2;\n",
              "      --hover-bg-color: #E2EBFA;\n",
              "      --hover-fill-color: #174EA6;\n",
              "      --disabled-fill-color: #AAA;\n",
              "      --disabled-bg-color: #DDD;\n",
              "  }\n",
              "\n",
              "  [theme=dark] .colab-df-quickchart {\n",
              "      --bg-color: #3B4455;\n",
              "      --fill-color: #D2E3FC;\n",
              "      --hover-bg-color: #434B5C;\n",
              "      --hover-fill-color: #FFFFFF;\n",
              "      --disabled-bg-color: #3B4455;\n",
              "      --disabled-fill-color: #666;\n",
              "  }\n",
              "\n",
              "  .colab-df-quickchart {\n",
              "    background-color: var(--bg-color);\n",
              "    border: none;\n",
              "    border-radius: 50%;\n",
              "    cursor: pointer;\n",
              "    display: none;\n",
              "    fill: var(--fill-color);\n",
              "    height: 32px;\n",
              "    padding: 0;\n",
              "    width: 32px;\n",
              "  }\n",
              "\n",
              "  .colab-df-quickchart:hover {\n",
              "    background-color: var(--hover-bg-color);\n",
              "    box-shadow: 0 1px 2px rgba(60, 64, 67, 0.3), 0 1px 3px 1px rgba(60, 64, 67, 0.15);\n",
              "    fill: var(--button-hover-fill-color);\n",
              "  }\n",
              "\n",
              "  .colab-df-quickchart-complete:disabled,\n",
              "  .colab-df-quickchart-complete:disabled:hover {\n",
              "    background-color: var(--disabled-bg-color);\n",
              "    fill: var(--disabled-fill-color);\n",
              "    box-shadow: none;\n",
              "  }\n",
              "\n",
              "  .colab-df-spinner {\n",
              "    border: 2px solid var(--fill-color);\n",
              "    border-color: transparent;\n",
              "    border-bottom-color: var(--fill-color);\n",
              "    animation:\n",
              "      spin 1s steps(1) infinite;\n",
              "  }\n",
              "\n",
              "  @keyframes spin {\n",
              "    0% {\n",
              "      border-color: transparent;\n",
              "      border-bottom-color: var(--fill-color);\n",
              "      border-left-color: var(--fill-color);\n",
              "    }\n",
              "    20% {\n",
              "      border-color: transparent;\n",
              "      border-left-color: var(--fill-color);\n",
              "      border-top-color: var(--fill-color);\n",
              "    }\n",
              "    30% {\n",
              "      border-color: transparent;\n",
              "      border-left-color: var(--fill-color);\n",
              "      border-top-color: var(--fill-color);\n",
              "      border-right-color: var(--fill-color);\n",
              "    }\n",
              "    40% {\n",
              "      border-color: transparent;\n",
              "      border-right-color: var(--fill-color);\n",
              "      border-top-color: var(--fill-color);\n",
              "    }\n",
              "    60% {\n",
              "      border-color: transparent;\n",
              "      border-right-color: var(--fill-color);\n",
              "    }\n",
              "    80% {\n",
              "      border-color: transparent;\n",
              "      border-right-color: var(--fill-color);\n",
              "      border-bottom-color: var(--fill-color);\n",
              "    }\n",
              "    90% {\n",
              "      border-color: transparent;\n",
              "      border-bottom-color: var(--fill-color);\n",
              "    }\n",
              "  }\n",
              "</style>\n",
              "\n",
              "  <script>\n",
              "    async function quickchart(key) {\n",
              "      const quickchartButtonEl =\n",
              "        document.querySelector('#' + key + ' button');\n",
              "      quickchartButtonEl.disabled = true;  // To prevent multiple clicks.\n",
              "      quickchartButtonEl.classList.add('colab-df-spinner');\n",
              "      try {\n",
              "        const charts = await google.colab.kernel.invokeFunction(\n",
              "            'suggestCharts', [key], {});\n",
              "      } catch (error) {\n",
              "        console.error('Error during call to suggestCharts:', error);\n",
              "      }\n",
              "      quickchartButtonEl.classList.remove('colab-df-spinner');\n",
              "      quickchartButtonEl.classList.add('colab-df-quickchart-complete');\n",
              "    }\n",
              "    (() => {\n",
              "      let quickchartButtonEl =\n",
              "        document.querySelector('#df-1946a0ec-f96d-4492-a7fe-6abf36a2bb60 button');\n",
              "      quickchartButtonEl.style.display =\n",
              "        google.colab.kernel.accessAllowed ? 'block' : 'none';\n",
              "    })();\n",
              "  </script>\n",
              "</div>\n",
              "\n",
              "    </div>\n",
              "  </div>\n"
            ],
            "application/vnd.google.colaboratory.intrinsic+json": {
              "type": "dataframe",
              "variable_name": "df"
            }
          },
          "metadata": {},
          "execution_count": 8
        }
      ],
      "source": [
        "import pandas as pd\n",
        "\n",
        "df = pd.read_csv(\"rating-New_York.csv\")\n",
        "df.head()"
      ]
    },
    {
      "cell_type": "code",
      "execution_count": null,
      "metadata": {
        "id": "8mWMBp450iB_",
        "colab": {
          "base_uri": "https://localhost:8080/",
          "height": 209
        },
        "outputId": "04a9ba26-25aa-4be2-b0d8-cade1cdd7296"
      },
      "outputs": [
        {
          "output_type": "execute_result",
          "data": {
            "text/plain": [
              "business     0\n",
              "user         0\n",
              "rating       0\n",
              "timestamp    0\n",
              "dtype: int64"
            ],
            "text/html": [
              "<div>\n",
              "<style scoped>\n",
              "    .dataframe tbody tr th:only-of-type {\n",
              "        vertical-align: middle;\n",
              "    }\n",
              "\n",
              "    .dataframe tbody tr th {\n",
              "        vertical-align: top;\n",
              "    }\n",
              "\n",
              "    .dataframe thead th {\n",
              "        text-align: right;\n",
              "    }\n",
              "</style>\n",
              "<table border=\"1\" class=\"dataframe\">\n",
              "  <thead>\n",
              "    <tr style=\"text-align: right;\">\n",
              "      <th></th>\n",
              "      <th>0</th>\n",
              "    </tr>\n",
              "  </thead>\n",
              "  <tbody>\n",
              "    <tr>\n",
              "      <th>business</th>\n",
              "      <td>0</td>\n",
              "    </tr>\n",
              "    <tr>\n",
              "      <th>user</th>\n",
              "      <td>0</td>\n",
              "    </tr>\n",
              "    <tr>\n",
              "      <th>rating</th>\n",
              "      <td>0</td>\n",
              "    </tr>\n",
              "    <tr>\n",
              "      <th>timestamp</th>\n",
              "      <td>0</td>\n",
              "    </tr>\n",
              "  </tbody>\n",
              "</table>\n",
              "</div><br><label><b>dtype:</b> int64</label>"
            ]
          },
          "metadata": {},
          "execution_count": 9
        }
      ],
      "source": [
        "df.isnull().sum()"
      ]
    },
    {
      "cell_type": "markdown",
      "metadata": {
        "id": "nYRUC46L_8zX"
      },
      "source": [
        "#3. Build PySpark DataFrames"
      ]
    },
    {
      "cell_type": "code",
      "execution_count": null,
      "metadata": {
        "id": "KlLq4msGokkl"
      },
      "outputs": [],
      "source": [
        "spark = SparkSession.builder \\\n",
        "    .appName(\"ALS PySpark: New York Reco\") \\\n",
        "    .config(\"spark.serializer\", \"org.apache.spark.serializer.KryoSerializer\") \\\n",
        "    .config(\"spark.kryoserializer.buffer.max\", \"2047m\") \\\n",
        "    .config(\"spark.sql.analyzer.failAmbiguousSelfJoin\", \"false\") \\\n",
        "    .getOrCreate()\n"
      ]
    },
    {
      "cell_type": "code",
      "execution_count": null,
      "metadata": {
        "id": "t-PgzP3IjZsV"
      },
      "outputs": [],
      "source": [
        "# Define schema with user and business as StringType\n",
        "schema = StructType([\n",
        "    StructField(\"user\", StringType(), nullable=False),\n",
        "    StructField(\"business\", StringType(), nullable=False),\n",
        "    StructField(\"rating\", IntegerType(), nullable=False),\n",
        "    StructField(\"timestamp\", LongType(), nullable=False),\n",
        "])\n",
        "\n",
        "# Read the CSV file with the specified schema\n",
        "data = spark.read.csv(\"rating-New_York.csv\", schema=schema, header=True)\n",
        "\n",
        "if DATA_SIZE == '100k':\n",
        "  data = data.limit(100000)\n",
        "elif DATA_SIZE == '1m':\n",
        "  data = data.limit(1000000)\n",
        "elif DATA_SIZE == '10m':\n",
        "  data = data.limit(10000000)\n",
        "elif DATA_SIZE == '20m':\n",
        "  data = data.limit(20000000)\n",
        "\n",
        "# Extract unique user and business IDs\n",
        "unique_users = data.select(\"user\").distinct().rdd.map(lambda row: row[0])\n",
        "unique_businesses = data.select(\"business\").distinct().rdd.map(lambda row: row[0])\n",
        "\n",
        "# Assign unique integers to each unique ID\n",
        "user_mapping = unique_users.zipWithUniqueId().toDF([\"user\", \"user_id\"])\n",
        "business_mapping = unique_businesses.zipWithUniqueId().toDF([\"business\", \"business_id\"])\n",
        "\n",
        "# Join the mappings back to the original data\n",
        "data = data.join(user_mapping, on=\"user\").join(business_mapping, on=\"business\")"
      ]
    },
    {
      "cell_type": "code",
      "execution_count": null,
      "metadata": {
        "id": "G2ylA4B2kfd2",
        "colab": {
          "base_uri": "https://localhost:8080/"
        },
        "outputId": "32ee1f8e-f951-4f6a-9420-811c5569edce"
      },
      "outputs": [
        {
          "output_type": "stream",
          "name": "stdout",
          "text": [
            "+-------+-----------+------+\n",
            "|user_id|business_id|rating|\n",
            "+-------+-----------+------+\n",
            "|      1|         28|     4|\n",
            "|      1|         28|     4|\n",
            "|     20|        214|     5|\n",
            "|     20|        214|     5|\n",
            "|     49|        576|     4|\n",
            "+-------+-----------+------+\n",
            "only showing top 5 rows\n",
            "\n"
          ]
        }
      ],
      "source": [
        "\n",
        "# Select only the necessary columns for ALS\n",
        "als_data = data.select(\"user_id\", \"business_id\", \"rating\")\n",
        "\n",
        "# Show the transformed data\n",
        "als_data.show(5)"
      ]
    },
    {
      "cell_type": "markdown",
      "source": [
        "## 4. Exploratory Data Analysis"
      ],
      "metadata": {
        "id": "z4BqP-9XnxRJ"
      }
    },
    {
      "cell_type": "code",
      "source": [
        "# Amount of rows (given by DATA_SIZE)\n",
        "\n",
        "als_data.count()"
      ],
      "metadata": {
        "colab": {
          "base_uri": "https://localhost:8080/"
        },
        "id": "lE6TGOlenw2l",
        "outputId": "997cd126-e868-4c0f-c64d-869b79a9cdd7"
      },
      "execution_count": null,
      "outputs": [
        {
          "output_type": "execute_result",
          "data": {
            "text/plain": [
              "100000"
            ]
          },
          "metadata": {},
          "execution_count": 26
        }
      ]
    },
    {
      "cell_type": "code",
      "source": [
        "# General characteristics of the dataset\n",
        "\n",
        "als_data.describe().show()"
      ],
      "metadata": {
        "colab": {
          "base_uri": "https://localhost:8080/"
        },
        "id": "9A624lefn-cY",
        "outputId": "308554ff-9ba5-4e44-ce6f-969a79b82332"
      },
      "execution_count": null,
      "outputs": [
        {
          "output_type": "stream",
          "name": "stdout",
          "text": [
            "+-------+------------------+------------------+------------------+\n",
            "|summary|           user_id|       business_id|            rating|\n",
            "+-------+------------------+------------------+------------------+\n",
            "|  count|            100000|            100000|            100000|\n",
            "|   mean|        1546.92383|       27699.35974|           4.39017|\n",
            "| stddev|1039.4558938471982|19223.577995673993|1.2897030683223474|\n",
            "|    min|                 0|                 0|                 1|\n",
            "|    max|              3632|             66770|                 5|\n",
            "+-------+------------------+------------------+------------------+\n",
            "\n"
          ]
        }
      ]
    },
    {
      "cell_type": "code",
      "source": [
        "# Visualize dataset\n",
        "\n",
        "# handy_data = als_data.toHandy()"
      ],
      "metadata": {
        "id": "mSoAHBMDoeQg"
      },
      "execution_count": null,
      "outputs": []
    },
    {
      "cell_type": "markdown",
      "source": [
        "## 5. Split data in train and test using Spark's built in features\n"
      ],
      "metadata": {
        "id": "J2D72ITEptEA"
      }
    },
    {
      "cell_type": "code",
      "source": [
        "train, test = spark_random_split(data, ratio=0.75, seed=42)\n",
        "print(\"N train\", train.cache().count())\n",
        "print(\"N test\", test.cache().count())"
      ],
      "metadata": {
        "colab": {
          "base_uri": "https://localhost:8080/"
        },
        "id": "ahe9oLjupsG8",
        "outputId": "840d7e20-b13b-4bdf-c483-e0ed13cc7cff"
      },
      "execution_count": null,
      "outputs": [
        {
          "output_type": "stream",
          "name": "stdout",
          "text": [
            "N train 75067\n",
            "N test 24933\n"
          ]
        }
      ]
    },
    {
      "cell_type": "markdown",
      "source": [
        "## 6. Train ALS model and get top k recommendations"
      ],
      "metadata": {
        "id": "fKuhbA7_pseQ"
      }
    },
    {
      "cell_type": "code",
      "source": [
        "header = {\n",
        "    \"userCol\": \"user_id\",\n",
        "    \"itemCol\": \"business_id\",\n",
        "    \"ratingCol\": COL_RATING,\n",
        "}\n",
        "\n",
        "als = ALS(\n",
        "    rank=10,\n",
        "    maxIter=15,\n",
        "    implicitPrefs=False,\n",
        "    regParam=0.05,\n",
        "    coldStartStrategy='drop',\n",
        "    nonnegative=False,\n",
        "    seed=43,\n",
        "    **header\n",
        ")"
      ],
      "metadata": {
        "id": "g5DJRV4-qgNe"
      },
      "execution_count": null,
      "outputs": []
    },
    {
      "cell_type": "code",
      "source": [
        "with Timer() as train_time:\n",
        "  model = als.fit(train)\n",
        "\n",
        "print(f\"Took {train_time.interval} seconds to train the model...\")"
      ],
      "metadata": {
        "colab": {
          "base_uri": "https://localhost:8080/"
        },
        "id": "ngyXsKM2q3gO",
        "outputId": "4517e660-71aa-4ee8-80a0-7edae8887f14"
      },
      "execution_count": null,
      "outputs": [
        {
          "output_type": "stream",
          "name": "stdout",
          "text": [
            "Took 42.35550659600017 seconds to train the model...\n"
          ]
        }
      ]
    },
    {
      "cell_type": "markdown",
      "source": [
        "## 5. Run predictions on the test set"
      ],
      "metadata": {
        "id": "jr_PRfN1rFYr"
      }
    },
    {
      "cell_type": "code",
      "source": [
        "from pyspark.sql.functions import col, explode\n",
        "\n",
        "test_users = test.select(\"user_id\").distinct()\n",
        "top_n = 10\n",
        "\n",
        "with Timer() as test_time:\n",
        "    recommendations = model.recommendForUserSubset(test_users, top_n)\n",
        "    recommendations = recommendations.select(\"user_id\", explode(\"recommendations\").alias(\"rec\"))\n",
        "    recommendations = recommendations.select(\"user_id\", col(\"rec.business_id\"), col(\"rec.rating\"))\n",
        "\n",
        "    recommendations.cache().count()\n",
        "\n",
        "print(f\"Took {test_time.interval} seconds to generate recommendations...\")"
      ],
      "metadata": {
        "colab": {
          "base_uri": "https://localhost:8080/"
        },
        "id": "KcAGgGxcrEwe",
        "outputId": "c32ca71c-e2a3-4e22-8484-8841d348ec76"
      },
      "execution_count": null,
      "outputs": [
        {
          "output_type": "stream",
          "name": "stdout",
          "text": [
            "Took 41.7400340669999 seconds to generate recommendations...\n"
          ]
        }
      ]
    },
    {
      "cell_type": "code",
      "source": [
        "recommendations.show(5)"
      ],
      "metadata": {
        "colab": {
          "base_uri": "https://localhost:8080/"
        },
        "id": "CLpsUksq6a_J",
        "outputId": "ee698170-0384-4279-c0f8-481a3bb9c365"
      },
      "execution_count": null,
      "outputs": [
        {
          "output_type": "stream",
          "name": "stdout",
          "text": [
            "+-------+-----------+---------+\n",
            "|user_id|business_id|   rating|\n",
            "+-------+-----------+---------+\n",
            "|   1580|      27780|4.9765615|\n",
            "|   1580|      27779|4.9765615|\n",
            "|   1580|      50818|4.2616773|\n",
            "|   1580|      50816|4.2616773|\n",
            "|   1580|      46652| 4.124104|\n",
            "+-------+-----------+---------+\n",
            "only showing top 5 rows\n",
            "\n"
          ]
        }
      ]
    },
    {
      "cell_type": "markdown",
      "source": [
        "## 6. Evaluate the model"
      ],
      "metadata": {
        "id": "lT6ldijlsHcT"
      }
    },
    {
      "cell_type": "code",
      "source": [
        "from pyspark.sql.functions import round\n",
        "\n",
        "# Round the predictions to the nearest whole number\n",
        "recommendations = recommendations.withColumn(\"rating\", round(\"rating\"))\n",
        "\n",
        "# Show the rounded predictions\n",
        "recommendations.show()"
      ],
      "metadata": {
        "colab": {
          "base_uri": "https://localhost:8080/"
        },
        "id": "IEwy43ORF-t-",
        "outputId": "af552c7e-6527-40ed-d9dd-6056399a8ada"
      },
      "execution_count": null,
      "outputs": [
        {
          "output_type": "stream",
          "name": "stdout",
          "text": [
            "+-------+-----------+------+\n",
            "|user_id|business_id|rating|\n",
            "+-------+-----------+------+\n",
            "|   1580|      27780|   5.0|\n",
            "|   1580|      27779|   5.0|\n",
            "|   1580|      50818|   4.0|\n",
            "|   1580|      50816|   4.0|\n",
            "|   1580|      46652|   4.0|\n",
            "|   1580|      37703|   4.0|\n",
            "|   1580|      39401|   4.0|\n",
            "|   1580|      39399|   4.0|\n",
            "|   1580|      39398|   4.0|\n",
            "|   1580|      39397|   4.0|\n",
            "|    471|      60526|   5.0|\n",
            "|    471|       8100|   5.0|\n",
            "|    471|       8099|   5.0|\n",
            "|    471|       8098|   5.0|\n",
            "|    471|       8097|   5.0|\n",
            "|    471|       8096|   5.0|\n",
            "|    471|       8095|   5.0|\n",
            "|    471|       8094|   5.0|\n",
            "|    471|       8093|   5.0|\n",
            "|    471|       8091|   5.0|\n",
            "+-------+-----------+------+\n",
            "only showing top 20 rows\n",
            "\n"
          ]
        }
      ]
    },
    {
      "cell_type": "code",
      "source": [
        "rank_eval = SparkRankingEvaluation(test, recommendations, k=TOP_K,\n",
        "                                   col_user=\"user_id\", col_item=\"business_id\",\n",
        "                                   col_rating=\"rating\", col_prediction=\"rating\",\n",
        "                                   relevancy_method=\"top_k\")\n",
        "\n",
        "print(\"Model:\\tALS\",\n",
        "      \"Top K:\\t%d\" % rank_eval.k,\n",
        "      \"MAP:\\t%f\" % rank_eval.map_at_k(),\n",
        "      \"NDCG:\\t%f\" % rank_eval.ndcg_at_k(),\n",
        "      \"Precision@K:\\t%f\" % rank_eval.precision_at_k(),\n",
        "      \"Recall@K:\\t%f\" % rank_eval.recall_at_k(), sep='\\n')"
      ],
      "metadata": {
        "colab": {
          "base_uri": "https://localhost:8080/"
        },
        "id": "RHSmPwG3sXW5",
        "outputId": "27513e70-85cf-4732-a704-ae909e65122f"
      },
      "execution_count": null,
      "outputs": [
        {
          "output_type": "stream",
          "name": "stderr",
          "text": [
            "/usr/local/lib/python3.11/dist-packages/pyspark/sql/context.py:158: FutureWarning: Deprecated in 3.0.0. Use SparkSession.builder.getOrCreate() instead.\n",
            "  warnings.warn(\n"
          ]
        },
        {
          "output_type": "stream",
          "name": "stdout",
          "text": [
            "Model:\tALS\n",
            "Top K:\t10\n",
            "MAP:\t0.136637\n",
            "NDCG:\t0.194354\n",
            "Precision@K:\t0.111949\n",
            "Recall@K:\t0.211849\n"
          ]
        }
      ]
    },
    {
      "cell_type": "code",
      "source": [
        "test.show(5)"
      ],
      "metadata": {
        "id": "x0frjm7yKB8Z",
        "outputId": "18d93cb7-da43-40f0-8eb2-7e4bd9238f2c",
        "colab": {
          "base_uri": "https://localhost:8080/"
        }
      },
      "execution_count": null,
      "outputs": [
        {
          "output_type": "stream",
          "name": "stdout",
          "text": [
            "+--------------------+--------------------+------+-------------+-------+-----------+\n",
            "|            business|                user|rating|    timestamp|user_id|business_id|\n",
            "+--------------------+--------------------+------+-------------+-------+-----------+\n",
            "|10012214140755166...|0x89c2f4603275f4a...|     4|1630773051592|    109|       1529|\n",
            "|10015700120420716...|0x89c2e7f5b0153be...|     3|1548754275402|   2356|      62379|\n",
            "|10022578938945580...|0x89de74f1bc12ba4...|     1|1389805967254|   3302|      55551|\n",
            "|10024985179954856...|0x89c28a937f8e1b7...|     5|1630964842884|   1504|      61046|\n",
            "|10068590924214935...|0x89d1313cef0322d...|     4|1623701630840|    318|       4820|\n",
            "+--------------------+--------------------+------+-------------+-------+-----------+\n",
            "only showing top 5 rows\n",
            "\n"
          ]
        }
      ]
    },
    {
      "cell_type": "markdown",
      "source": [
        "## 7. Evaluate the predictions"
      ],
      "metadata": {
        "id": "7Q6ia_0psaRd"
      }
    },
    {
      "cell_type": "code",
      "source": [
        "prediction = model.transform(test).cache()\n",
        "# Round the predictions to the nearest whole number\n",
        "prediction = prediction.withColumn(\"prediction\", round(\"prediction\"))\n",
        "\n",
        "prediction.show()\n",
        "\n",
        "rating_eval = SparkRatingEvaluation(test, prediction, col_user=\"user_id\", col_item=\"business_id\",\n",
        "                                    col_rating=\"rating\", col_prediction=\"prediction\")\n",
        "\n",
        "print(\"Model:\\tALS rating prediction\",\n",
        "      \"RMSE:\\t%f\" % rating_eval.rmse(),\n",
        "      \"MAE:\\t%f\" % rating_eval.mae(),\n",
        "      \"Explained variance:\\t%f\" % rating_eval.exp_var(),\n",
        "      \"R squared:\\t%f\" % rating_eval.rsquared(), sep='\\n')"
      ],
      "metadata": {
        "colab": {
          "base_uri": "https://localhost:8080/"
        },
        "id": "46XJYTGBscZ4",
        "outputId": "d4e90911-2344-45ab-c4b2-e9ea122a73c4"
      },
      "execution_count": null,
      "outputs": [
        {
          "output_type": "stream",
          "name": "stdout",
          "text": [
            "+-------+-----------+------+\n",
            "|user_id|business_id|rating|\n",
            "+-------+-----------+------+\n",
            "|   1580|      27780|   5.0|\n",
            "|   1580|      27779|   5.0|\n",
            "|   1580|      50818|   4.0|\n",
            "|   1580|      50816|   4.0|\n",
            "|   1580|      46652|   4.0|\n",
            "|   1580|      37703|   4.0|\n",
            "|   1580|      39401|   4.0|\n",
            "|   1580|      39399|   4.0|\n",
            "|   1580|      39398|   4.0|\n",
            "|   1580|      39397|   4.0|\n",
            "|    471|      60526|   5.0|\n",
            "|    471|       8100|   5.0|\n",
            "|    471|       8099|   5.0|\n",
            "|    471|       8098|   5.0|\n",
            "|    471|       8097|   5.0|\n",
            "|    471|       8096|   5.0|\n",
            "|    471|       8095|   5.0|\n",
            "|    471|       8094|   5.0|\n",
            "|    471|       8093|   5.0|\n",
            "|    471|       8091|   5.0|\n",
            "+-------+-----------+------+\n",
            "only showing top 20 rows\n",
            "\n",
            "+--------------------+--------------------+------+-------------+-------+-----------+----------+\n",
            "|            business|                user|rating|    timestamp|user_id|business_id|prediction|\n",
            "+--------------------+--------------------+------+-------------+-------+-----------+----------+\n",
            "|10876729406022905...|0x89c2598c56597c6...|     5|1563897025042|   2866|      48660|      -1.0|\n",
            "|11210144340921036...|0x89c25f971f6f044...|     5|1611947937469|    471|       8098|       5.0|\n",
            "|11088186041909297...|0x89c25f971f6f044...|     5|1550781593538|    471|       8093|       5.0|\n",
            "|11770981680006137...|0x89e85a93dcfe9fc...|     4|1556305758804|   1088|      19029|       4.0|\n",
            "|10309078449399333...|0x89e85a93dcfe9fc...|     5|1578091638083|   1088|      19044|       5.0|\n",
            "|10886790221123312...|0x89d6b160dab98b5...|     5|1537528202571|   1580|      27664|       3.0|\n",
            "|11529805781915668...|0x89c25f971f6f044...|     1|1549837683086|    471|       8092|       1.0|\n",
            "|10624776364049763...|0x89c259a6748eaaa...|     5|1526825250769|    148|       2357|       5.0|\n",
            "|10766365574311392...|0x89c25f971f6f044...|     5|1550978849193|    471|       8089|       5.0|\n",
            "|11534267947653720...|0x89e85a93dcfe9fc...|     5|1435002973658|   1088|      19038|       5.0|\n",
            "|11840962347522263...|0x89c2d6b1790ab4d...|     5|1569921553757|    463|       7543|       5.0|\n",
            "|10216476234665604...|0x89e83226c5a7f18...|     5|1630669985282|   1829|      31526|       1.0|\n",
            "|11820249330624683...|0x89d30a8c419eb64...|     5|1467740030198|   1342|      24137|       5.0|\n",
            "|10284703975608747...|0x89c2d6b1790ab4d...|     5|1566418361165|    463|       7545|       5.0|\n",
            "|11591865653620107...|0x89c25f971f6f044...|     5|1526503672620|    471|       8096|       5.0|\n",
            "|10897852477717558...|0x89c259a6748eaaa...|     5|1605620374516|    148|       2289|       5.0|\n",
            "|11774131901856438...|0x89e85a93dcfe9fc...|     5|1485719242031|   1088|      19032|       5.0|\n",
            "|10742163286094187...|0x89c289ae2f72110...|     1|1598041720130|    496|       8387|       1.0|\n",
            "|10895466798038873...|0x89c289ae2f72110...|     5|1526264056620|    496|       8353|       5.0|\n",
            "|10114529396966005...|0x89c25f971f6f044...|     5|1586205661492|    471|       8100|       5.0|\n",
            "+--------------------+--------------------+------+-------------+-------+-----------+----------+\n",
            "only showing top 20 rows\n",
            "\n"
          ]
        },
        {
          "output_type": "stream",
          "name": "stderr",
          "text": [
            "/usr/local/lib/python3.11/dist-packages/pyspark/sql/context.py:158: FutureWarning: Deprecated in 3.0.0. Use SparkSession.builder.getOrCreate() instead.\n",
            "  warnings.warn(\n"
          ]
        },
        {
          "output_type": "stream",
          "name": "stdout",
          "text": [
            "Model:\tALS rating prediction\n",
            "RMSE:\t1.295144\n",
            "MAE:\t0.328726\n",
            "Explained variance:\t0.034185\n",
            "R squared:\t-0.030969\n"
          ]
        }
      ]
    }
  ],
  "metadata": {
    "colab": {
      "provenance": []
    },
    "kernelspec": {
      "display_name": "Python 3",
      "name": "python3"
    },
    "language_info": {
      "name": "python"
    }
  },
  "nbformat": 4,
  "nbformat_minor": 0
}